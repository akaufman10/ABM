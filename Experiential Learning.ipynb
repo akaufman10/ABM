{
 "cells": [
  {
   "cell_type": "markdown",
   "metadata": {},
   "source": [
    "Story 1:\n",
    "\n",
    "Costly Signal, adopted by high status individuals, but abandoned due to mimics.  Re-emerges when mimicry dies and signal becomes costly again.\n",
    "\n",
    "Story 2:\n",
    "\n",
    "As a high value signal becomes less and less valueable, and outdated, it eventually becomes valuable as a counter-signal.\n",
    "\n",
    "\n",
    "\n",
    "\n",
    "\n",
    "\n",
    "\n",
    "\n",
    "\n",
    "\n",
    "\n",
    "\n",
    "\n",
    "\n",
    "\n",
    "\n",
    "\n",
    "\n",
    "\n"
   ]
  },
  {
   "cell_type": "markdown",
   "metadata": {},
   "source": [
    "In each period the true value of $X$ is a linear function of the previous period's X value and the average value of $a$ across all agents.  \n",
    "\n",
    "$$\n",
    "X_t = X_{t-1} + w_1 \\frac{1}{N} \\sum_{i=1}^N a_{i,t}\n",
    "$$"
   ]
  },
  {
   "cell_type": "markdown",
   "metadata": {},
   "source": [
    "Agent's expression of $a_i$ is inversely related to the relative levels of $X$ and $k$, where $k$ is some constant.  Agents use a simple updating rule to chose their level of a in each period.  \n",
    "$$\n",
    "a_{i} = a_{i,t-1} - w_2(\\hat{X_i} - k)\n",
    "$$\n",
    "\n",
    "where $\\hat{X}$ (which can be thought of a $\\mathbb{E}_i[X]$) is estimated with an adaptive expectations rule that incorporates social knowledge.\n",
    "\n",
    "$$\n",
    "    \\hat{X}_{i}  = \\hat{X}_{i,t-1} + w_1\\ f(\\{a \\in c_i\\})\n",
    "$$\n",
    "and the function $f(\\{a \\in c_i\\})$ represents some aggregation rule across the $a$ values of all connected agents."
   ]
  },
  {
   "cell_type": "markdown",
   "metadata": {},
   "source": [
    "The parameters have the following intepertations:\n",
    "$$\n",
    "\\begin{align}\n",
    "& X: \\text{ A systemic, society level variable }  \\\\\n",
    "& a: \\text{  A propensity for some agent-level behavior} \\\\ \n",
    "& w1: \\text{ The amount by which today's level of }a \\text{ affects the systemic variable X} \\\\\n",
    "& w2: \\text{  The amount by which today's level of }X \\text{ decreases }a_i\\text{, the propensity for agent-behavior} \\\\\n",
    "& k: \\text{ The level of X at which the agent would neither increase nor decrease her propensity for some behavior} \n",
    "\\end{align}\n",
    "$$"
   ]
  },
  {
   "cell_type": "markdown",
   "metadata": {},
   "source": [
    "So, to make a concrete example, we can map these variables into a model of the credit cycle  \\begin{align}\n",
    "& X: \\text{ Average lending risk (across the entire universe of agents)}  \\\\\n",
    "& a_i: \\text{ Agent's propensity to lend} \\\\ \n",
    "& w1: \\text{ The amount by which today's level of lending} \\text{ affects the systemic lending risk X} \\\\\n",
    "& w2: \\text{  The amount by which today's lending risk }X \\text{ affects }a_i\\text{ agent's propensity to lend} \\\\\n",
    "& k: \\text{ The level of risk at which the agent would neither increase nor decrease her propensity to lend} \n",
    "\\end{align} "
   ]
  },
  {
   "cell_type": "code",
   "execution_count": 52,
   "metadata": {},
   "outputs": [],
   "source": [
    "import networkx as nx\n",
    "import random\n",
    "import matplotlib.pyplot as plt\n",
    "import numpy as np\n",
    "import pandas as pd\n",
    "import pylab as plb\n",
    "import scipy as sp\n",
    "\n",
    "from copy import copy\n",
    "from math import log1p\n",
    "from operator import attrgetter\n",
    "from random import shuffle\n",
    "from statsmodels.graphics.tsaplots import plot_acf, plot_pacf\n",
    "from statsmodels.tsa.stattools import acf\n",
    "\n",
    "\n",
    "class Agent(object):\n",
    "    '''\n",
    "    defines the attributes and behavior (methods) for each agent\n",
    "    \n",
    "    also includes a set of objects to collect data / track parameters in each period\n",
    "    '''\n",
    "    def __init__(self, id, parameters,model): #function called when each agent is initialized\n",
    "        \n",
    "        #--initialize the agent's attributes that will be used to store info in the simulation--#\n",
    "        self.id = id #get an id number\n",
    "        self.model = model #get the model obejct so it can be referenced\n",
    "        self.mimic = False #set default (agents cannot mimic others)\n",
    "        self.sigChoice = None #create an empty variable to represent the agents signal choice\n",
    "        self.sigAvalEst = None #create an empty variable to represent the agent's perceived value\n",
    "        self.connections = list(model.environment.neighbors(id)) # figure out which agents are connected\n",
    "        for k,v in parameters.items(): #loop through all keyword arguments\n",
    "            setattr(self,k,v) #assign the kwargs as object attributes\n",
    "        #---------------------------------------------------------------------------------------#\n",
    "        \n",
    "        self.q = np.random.normal(self.q_mean,self.q_sigma) #determine agent's quality\n",
    "        \n",
    "        #create an indicator of which signals the agent can afford\n",
    "        self.sigAfford = {'a':self.q>=self.sigAcost,'b':self.q>=self.sigAcost*(2/3),'c':self.q>=self.sigAcost*(1/3),'n':True}\n",
    "        \n",
    "        '''--------Tracking / Data collection objects (not used for simulation purposes)------'''\n",
    "        self.sigChoices = [self.sigChoice] #list to track choice of signal\n",
    "        self.sigAvalues = [self.sigAval] #list to track perception of signal A value\n",
    "        self.estimatesA = [None] #list to track estimates of signal A value\n",
    "        self.neighborsA = [None] #list to track how many neighbors display signal A\n",
    "        self.mimicing   = [None] #list tracking if the agent was mimicing in the period\n",
    "        '''-----------------------------------------------------------------------------------'''\n",
    "        \n",
    "        self.determineSig() #determine the initial signal the agent will display\n",
    "        \n",
    "        self.updateChoices() #finalize and track signal choice (after tracking objects initiated)\n",
    "        \n",
    "    def step(self): #calculate the results for this period \n",
    "        \n",
    "        #determine whether this agent can mimic \n",
    "        self.mimic = random.random() < self.m\n",
    "        \n",
    "        #update agent's beliefs about each signal's value\n",
    "        self.updateBelief()\n",
    "        \n",
    "        #choose the signal to display\n",
    "        self.determineSig()\n",
    "        \n",
    "    \n",
    "    def updateBelief(self): #update the agents perception of the value of each signal\n",
    "        \n",
    "        neighborList = [] #create an empty list to track neighbors who are displaying signal A\n",
    "        \n",
    "        #check which neighbors are displaying signal A\n",
    "        sigAq = [] #create an empty list to hold info about neighbors who are signaling\n",
    "        \n",
    "        for n in self.connections: #for each neighbor\n",
    "            if self.model.agents[n].sigChoice == 'a': #if the neighbor displayes signal A\n",
    "                sigAq.append(copy(self.model.agents[n].q)) #collect the neighbors value\n",
    "                neighborList.append(n) #keep track of which neighbors signal A \n",
    "            if self.sigChoice == 'a': #if the agent is displaying the signal\n",
    "                sigAq.append(copy(self.model.agents[n].q)) #include the agents own quality \n",
    "        \n",
    "        \n",
    "        '''-----------Keep track of which neighbors displayed signal A in the period---------'''\n",
    "        self.neighborsA.append(neighborList) #append this period's data to the tracking list\n",
    "        '''----------------------------------------------------------------------------------'''\n",
    "        \n",
    "        #caculate the agents estimate of the signal value this period\n",
    "        \n",
    "        #estimation procedure for agents who do not countersignal\n",
    "        if not self.countersignal:\n",
    "        \n",
    "            '''\n",
    "            The \"costly signal\" estimate of the signal value combines \n",
    "                1) the true cost of the signal \n",
    "                2) the quality of observable agents displaying the signal\n",
    "                3) the quality of the agent displaying the signal\n",
    "\n",
    "            The logic behind this is fully described in the mathematical description.\n",
    "            The weight given to the \"true\" value of the signal is based on its prevalence\n",
    "            '''\n",
    "\n",
    "            self.sigAvalEst = (sum(sigAq) + self.sigAcost) / (len(sigAq) + 1) \n",
    "\n",
    "            #use this calculation to update the signal value of A\n",
    "            self.sigAval = (1-self.w)*self.sigAval + self.w*self.sigAvalEst\n",
    "        \n",
    "        #estimation procedure for agents who countersignal\n",
    "        else: \n",
    "        \n",
    "            '''\n",
    "            The \"countersignal\" estimate of the signal value combines  \n",
    "                1) the quality of observable agents displaying the signal\n",
    "                2) the quality of the agent displaying the signal\n",
    "                and excludes\n",
    "                3) the initial (\"true\") cost of the signal - now the agent's perception is the truth!\n",
    "\n",
    "            The logic behind this is fully described in the mathematical description.\n",
    "            \n",
    "            '''\n",
    "            try:\n",
    "                self.sigAvalEst = (sum(sigAq)) / (len(sigAq)) \n",
    "                #use this calculation to update the signal value of A\n",
    "                self.sigAval = (1-self.w)*self.sigAval + self.w*self.sigAvalEst\n",
    "            except ZeroDivisionError: #maintain the previous SigAval if there is no new information\n",
    "                pass\n",
    "    \n",
    "        \n",
    "    def determineSig(self):\n",
    "        #use the new signal value of the A to decide whether to determine display the signal.\n",
    "        '''\n",
    "        The basic steps of determining which signal to adopt are:\n",
    "        1) calcualte which is the prefered (best) signal (i.e. the signal the agent believes has the highest value)\n",
    "        2) check if the agent can afford the signal or can mimic\n",
    "        3) if the agent cannot afford the signal, exclude the signal and repeat 1) and 2) \n",
    "        \n",
    "        #---(eventually would like to extend this so other signal values can vary too)---#\n",
    "\n",
    "        '''\n",
    "        \n",
    "        signalValues = {'a':self.sigAval,'b':self.sigAcost*(2/3),'c':self.sigAcost*(1/3),'n':0} #collect the current singal value for each signal\n",
    "        signalFound = False #set up a tracker indicating whether an affordable signal was found\n",
    "\n",
    "        #decision procedure for agents who do not countersignal\n",
    "        if not self.countersignal:\n",
    "            \n",
    "            while not signalFound:\n",
    "                prefSignal = max(signalValues.keys(), key=(lambda k: signalValues[k])) #determine the \"best\" signal\n",
    "                #determine if the currenet prefered signal can be used\n",
    "                '''\n",
    "                The prefered signal can be used when one of the following conditions is met\n",
    "                1) The agent can \"afford\" the signal\n",
    "                2) The agent can mimic signals in this period and can observe a signal to mimic\n",
    "                3) The agent \"knows how\" to display (since they are already displaying the prefered signal)\n",
    "                '''\n",
    "                if self.sigAfford[prefSignal] or (self.mimic and self.neighborsA) or (self.sigChoice == prefSignal): \n",
    "                    self.newSigChoice = prefSignal #agent chooses to display the current prefered signal\n",
    "                    signalFound = True #change tracker to true (will continue processing)\n",
    "                else: #if the prefered signal is not affordable\n",
    "                    del signalValues[prefSignal] #remove it from the list of signal options and repeat\n",
    "                    \n",
    "        #decision procedure for agents who countersignal\n",
    "        else:\n",
    "            \n",
    "             while not signalFound:\n",
    "                prefSignal = max(signalValues.keys(), key=(lambda k: signalValues[k])) #determine the \"best\" signal\n",
    "                #if the agent is unusually high quality (and for efficiency, 'a' is still an option)\n",
    "                if self.q > self.q_mean + 2*self.q_sigma and 'a' in signalValues: \n",
    "                    if signalValues['a'] < self.q_mean - self.l*self.q_sigma: #and the value of signal A is low\n",
    "                        prefSignal = 'a'  #the agent chooses to countersignal\n",
    "                        \n",
    "                #determine if the currenet prefered signal can be used\n",
    "                '''\n",
    "                The prefered signal can be used when one of the following conditions is met\n",
    "                1) The agent can \"afford\" the signal\n",
    "                2) The agent can mimic signals in this period \n",
    "                3) The agent \"know how\" to display (since they are already displaying the prefered signal)\n",
    "                '''\n",
    "                if self.sigAfford[prefSignal] or (self.mimic) or (self.sigChoice == prefSignal): \n",
    "                    self.newSigChoice = prefSignal #agent chooses to display the current prefered signal\n",
    "                    signalFound = True #change tracker to true (will continue processing)\n",
    "                else: #if the prefered signal is not affordable\n",
    "                    del signalValues[prefSignal] #remove it from the list of signal options and repeat\n",
    "                    \n",
    "            \n",
    "    def updateChoices(self): # update parameters after each agent has calculated signal vlaues\n",
    "        self.sigChoice = self.newSigChoice #replace the old signal choice with the one from this period\n",
    "\n",
    "        '''-------------------------track values of agent's parameters----------------------'''\n",
    "        self.sigChoices.append(copy(self.sigChoice)) #signal choices\n",
    "        self.sigAvalues.append(copy(self.sigAval)) #this period's estimated value of signal A\n",
    "        self.estimatesA.append(copy(self.sigAvalEst)) #this periods value of signal A\n",
    "        self.mimicing.append(copy(self.mimic)) #mimic boolean\n",
    "        '''---------------------------------------------------------------------------------'''\n",
    "\n",
    "        \n",
    "class model(object): #define a model\n",
    "    '''\n",
    "    Define the environment and the simulation structure\n",
    "    Network: Watts Strogatz Small World Graph\n",
    "    Simulation Pattern: Each Agent is \"Activated\" in sequential order\n",
    "    Periods: The model takes a fixed input that determines the number of periods it runs for\n",
    "    '''\n",
    "    def __init__(self,parameters): #define the steps taken at initiation of a model\n",
    "        self.N = parameters['N']\n",
    "        #In this model, I use a small world Watts Strogatz network\n",
    "        self.environment = nx.watts_strogatz_graph(self.N,int(round(parameters['k'])),parameters['p']) #N nodes, K neighbors connected, .25 probability of rewireing\n",
    "        self.agents = [] #make an empty list to hold agents\n",
    "        for i in range(self.N): #Loop through each agent\n",
    "            agent = Agent(i,parameters,self) #ceate the agent\n",
    "            self.agents.append(agent) #add the agent to the list of agents\n",
    "        \n",
    "        \n",
    "        '''Create a set of objects to track parameters and other metrics at the system level'''\n",
    "        self.averageAval = [] #tracker for system wide value of A\n",
    "        self.averageQval = [] #tracker for system wide quality value\n",
    "        self.sigCounts   = [] #tracker for the number of agents displaying each signal\n",
    "        \n",
    "        self.sigAcount   = 0 # Counter for Agents displaying signal A\n",
    "        self.sigBcount   = 0 # Counter for Agents displaying signal B\n",
    "        self.sigCcount   = 0 # Counter for Agents displaying signal C\n",
    "        self.aValues     = [] #Counter for values of signal A in each period\n",
    "        self.qValues     = [] #Counter for values of Q in each period\n",
    "\n",
    "        '''---------------------------------------------------------------------------------'''\n",
    "        \n",
    "    def step(self,periods): #run the entire model for a designated number of periods\n",
    "\n",
    "        #begin simulation\n",
    "        \n",
    "        for p in range(periods): #period loop\n",
    "            \n",
    "            shuffle(self.agents) #randomize order of agents\n",
    "            for a in self.agents: #loop through all agents\n",
    "                a.step() #activate the agent's behavior for the period\n",
    "                \n",
    "                '''-------------Track values of A and Q---------------'''\n",
    "                self.aValues.append(a.sigAval)\n",
    "                \n",
    "                \n",
    "                '''-------------Track signal choices------------------'''\n",
    "                if a.sigChoice == 'a':\n",
    "                    self.sigAcount += 1\n",
    "                    ''' Track Q values of agents displaying A'''\n",
    "                    self.qValues.append(a.q) \n",
    "                if a.sigChoice == 'b':\n",
    "                    self.sigBcount += 1\n",
    "                if a.sigChoice == 'c':\n",
    "                    self.sigCcount += 1\n",
    "                '''---------------------------------------------------'''\n",
    "            \n",
    "            for a in self.agents: #loop back through each agent\n",
    "                a.updateChoices() #update values that only change at the end of the period\n",
    "            \n",
    "            self.sigCounts.append([self.sigAcount,self.sigBcount,self.sigCcount])\n",
    "            \n",
    "            \n",
    "            \n",
    "            self.averageAval.append(sum(self.aValues)/len(self.aValues))\n",
    "            if self.sigAcount > 0:\n",
    "                self.averageQval.append(sum(self.qValues)/self.sigAcount)\n",
    "            else:\n",
    "                self.averageQval.append(0)\n",
    "                \n",
    "                \n",
    "            self.sigAcount = 0\n",
    "            self.sigBcount = 0\n",
    "            self.sigCcount = 0\n",
    "            self.aValues = [] #reset the list that tracks each agents belief about signal A\n",
    "            self.qValues = [] #reset the list that tracks each agent's (displaying A) quality\n",
    "            \n",
    "            \n",
    "    def getPeriod(self):\n",
    "        \n",
    "        W    = np.fft.fft(X)\n",
    "        freq = np.fft.fftfreq(N,1)\n",
    "            \n",
    "    def showNetwork(self):\n",
    "        b = nx.draw_networkx(self.environment)\n",
    "        plt.show()\n",
    "        \n",
    "    def showTrends(self,smooth=False,autoCor=False,save=False):\n",
    "        \n",
    "        smooth = lambda x: list(pd.rolling_mean(pd.Series(x),10).values)[10:]\n",
    "        plotObj  = [self.averageAval,self.averageQval,[a[0] for a in self.sigCounts],self.agents[1].sigAvalues]\n",
    "        labels   = ['Avg Value of Fashion','Avg Quality of Agents adopting Fashion','Number of Agents adopting Fashion','Single Agents Value of Fashion']\n",
    "  \n",
    "        if smooth:\n",
    "            plotObj = [smooth(o) for o in plotObj]\n",
    "        \n",
    "        \n",
    "        for i in range(len(plotObj)):\n",
    "            \n",
    "            if autoCor:\n",
    "                if smooth:\n",
    "                    plot_acf(plotObj[i], label=labels[i]+' (smoothed)')\n",
    "                else:\n",
    "                    plot_acf(plotObj[i], label=labels[i])\n",
    "                plt.xlim([0,100])\n",
    "                plt.xlabel('Periods')\n",
    "                plt.legend([labels[i]], loc='upper right', fontsize = 'small')\n",
    "                if save:\n",
    "                    plt.savefig('graph'+str(i))\n",
    "                plt.show()\n",
    "                \n",
    "            else:\n",
    "                if smooth:\n",
    "                    Line, = plt.plot(plotObj[i], label=labels[i] +' (smoothed)')\n",
    "                else:\n",
    "                    Line, = plt.plot(plotObj[i], label=labels[i])\n",
    "                plt.legend(handles=([Line]))\n",
    "                if save:\n",
    "                    plt.savefig('ac_graph'+str(i))\n",
    "                plt.show()\n",
    "           \n",
    "        \n",
    "    def reportStatistics(self):\n",
    "        \n",
    "        statsObj  = [self.averageAval,self.averageQval,[a[0] for a in self.sigCounts],self.agents[1].sigAvalues]\n",
    "        labels   = ['Avg Value of Fashion','Avg Quality of Agents adopting Fashion','Number of Agents adopting Fasion','Agent 1 Value of Fashion']\n",
    "\n",
    "        \n",
    "        dataframeList = []\n",
    "        for i in range(len(statsObj)):\n",
    "            vec = statsObj[i]\n",
    "            dataframe = pd.DataFrame([labels[i]],columns=[\"Data Vector\"])\n",
    "            acorr = acf(vec,alpha=.05,nlags=100)\n",
    "            autocorrelation = {}\n",
    "            dataframe = dataframe.assign(avg=pd.Series(sum(vec) / len(vec)).values)\n",
    "            dataframe = dataframe.assign(std=pd.Series(np.std(vec)).values)\n",
    "            dataframe = dataframe.assign(rng=pd.Series(max(vec) - min(vec)).values)\n",
    "            dataframe = dataframe.assign(stabilize=pd.Series(bool(max(vec[500:]) - min(vec[500:]))>0.1).values)\n",
    "            dataframe = dataframe.assign(rng=pd.Series(max(vec) - min(vec)).values)\n",
    "            for i in [5,10,15,20,25,30,35,40,45,50,55,60,65,70,75,80,85,90,95,100]:\n",
    "                \n",
    "                #if the confidence interval for the autocorr coefficient does not contain zero with p > .05 \n",
    "                if not acorr[1][i][0] < 0 < acorr[1][i][1]:\n",
    "                    autocorrelation[i] = acorr[0][i]\n",
    "                else:\n",
    "                    autocorrelation[i] = None\n",
    "\n",
    "            autoCdata = pd.DataFrame(autocorrelation,index=[0])\n",
    "            autoCdata.reset_index(drop=True, inplace=True) #reset index to avoid concatenation problem\n",
    "            dataframe.reset_index(drop=True, inplace=True) #reset index to avoid concatenation problem\n",
    "            dataframe = pd.concat([dataframe,autoCdata],axis=1)\n",
    "            dataframeList.append(dataframe)\n",
    "        \n",
    "        return dataframeList\n",
    "           \n",
    "        #to be reported: a vector with averages, std dev, range, autocorrelation\n",
    "        \n",
    "def simulate(runs=None, periods=None, parameters=None):\n",
    "    dataframes = []\n",
    "    for j in range(runs):\n",
    "        m = model(parameters)\n",
    "        m.step(periods)\n",
    "        newframes = m.reportStatistics()\n",
    "        for i in range(len(newframes)): # for each dataframe of the reported statistics\n",
    "                newData = newframes[i]\n",
    "                newData['run'] = j #add the run number to the dataframe\n",
    "                if j == 0: #on the first run\n",
    "                    dataframes.append(newData) #the full collection of data is just the data frame reported\n",
    "                else:\n",
    "                    oldData = dataframes[i] #add the new data to the previous run's data\n",
    "                    completeData = oldData.append(newData) #replace the dataframe in the original list\n",
    "                    dataframes[i] = completeData\n",
    "    return dataframes\n",
    "\n",
    "def aggregateData(dataframes): #averages a list of dataframes produced by a simulation \n",
    "    \n",
    "    for i, frame in enumerate(dataframes):\n",
    "        runCount = frame['run'].max()+1\n",
    "        Metric = frame['Data Vector'].values[0]\n",
    "        frameAvg = pd.DataFrame(frame.mean().to_dict(),index=[0])\n",
    "        frameAvg['runs'] = runCount\n",
    "        frameAvg['Metric'] = Metric\n",
    "        if i == 0:\n",
    "            averages = frameAvg\n",
    "        else:\n",
    "            averages = pd.concat([averages, frameAvg],axis=0)\n",
    "    return averages\n",
    "\n",
    "\n"
   ]
  },
  {
   "cell_type": "code",
   "execution_count": 69,
   "metadata": {
    "collapsed": true,
    "scrolled": true
   },
   "outputs": [],
   "source": [
    "'''\n",
    "Below are some individual sets of parameters that can be used to test individual models \n",
    "\n",
    "params = {'q_mean':.5,\n",
    "          'q_sigma':.5,\n",
    "          'sigAcost':3,\n",
    "          'sigAval':3,\n",
    "          'countersignal':False,\n",
    "          'k':4,\n",
    "          'p':2,\n",
    "          'w':.3,\n",
    "          'm':.1,\n",
    "          'N':100\n",
    "          'l':None\n",
    "         }\n",
    "         \n",
    "'''\n",
    "params = {'q_mean':2,\n",
    "          'q_sigma':.5,\n",
    "          'sigAcost':3,\n",
    "          'sigAval':3,\n",
    "          'countersignal':True,\n",
    "          'k':4,\n",
    "          'p':.2,\n",
    "          'w':.1,\n",
    "          'm':.3,\n",
    "          'N':1000,\n",
    "          'l':1.5\n",
    "         }\n",
    "\n",
    "\n",
    "\n",
    "\n"
   ]
  },
  {
   "cell_type": "code",
   "execution_count": 70,
   "metadata": {},
   "outputs": [
    {
     "name": "stderr",
     "output_type": "stream",
     "text": [
      "C:\\Users\\ak29\\AppData\\Local\\Continuum\\anaconda3\\lib\\site-packages\\ipykernel_launcher.py:280: FutureWarning: pd.rolling_mean is deprecated for Series and will be removed in a future version, replace with \n",
      "\tSeries.rolling(window=10,center=False).mean()\n"
     ]
    },
    {
     "data": {
      "image/png": "[encoded data removed]",
      "text/plain": [
       "<matplotlib.figure.Figure at 0x21dc74fac18>"
      ]
     },
     "metadata": {},
     "output_type": "display_data"
    },
    {
     "data": {
      "image/png": "[encoded data removed]",
      "text/plain": [
       "<matplotlib.figure.Figure at 0x21dc71cc2e8>"
      ]
     },
     "metadata": {},
     "output_type": "display_data"
    },
    {
     "data": {
      "image/png": "[encoded data removed]",
      "text/plain": [
       "<matplotlib.figure.Figure at 0x21dc74ef550>"
      ]
     },
     "metadata": {},
     "output_type": "display_data"
    },
    {
     "data": {
      "image/png": "[encoded data removed]",
      "text/plain": [
       "<matplotlib.figure.Figure at 0x21dc74cfa90>"
      ]
     },
     "metadata": {},
     "output_type": "display_data"
    }
   ],
   "source": [
    "'''\n",
    "Run a few representatie models\n",
    "'''\n",
    "#for loop of params\n",
    "simulation = model(params)\n",
    "simulation.step(1000)\n",
    "simulation.showTrends()\n",
    "#simulation.showTrends(autoCor=False, smooth=True, save=True)"
   ]
  },
  {
   "cell_type": "code",
   "execution_count": null,
   "metadata": {
    "scrolled": true
   },
   "outputs": [],
   "source": [
    "from SALib.sample import saltelli\n",
    "from SALib.analyze import sobol\n",
    "from SALib.test_functions import Ishigami\n",
    "import numpy as np\n",
    "\n",
    "#parameters that are fixed\n",
    "fixedParams = {'sigAcost':3,\n",
    "               'sigAval':3,\n",
    "               'countersignal':True,\n",
    "               'N':1000\n",
    "}\n",
    "\n",
    "#parameters that can vary\n",
    "variableParams = ['q_mean','q_sigma','k','p','w','m','l']\n",
    "\n",
    "'''\n",
    "Create a set of parameters for testing model sensitivity\n",
    "Code uses the SALib (Sensitivity Analysis Library) based on\n",
    "Variance Sensitivity Analysis of Sobol (2001)\n",
    "\n",
    "'''\n",
    "\n",
    "inputs = {\n",
    "    'num_vars': 7,\n",
    "    'names': ['q_mean', 'q_sigma', 'k','p','w','m','l'],\n",
    "    'bounds': [[1, 4],\n",
    "               [0, 2],\n",
    "               [2, 5],\n",
    "               [0, 1],\n",
    "               [0, 1],\n",
    "               [0, 1],\n",
    "               [.25,.275]]\n",
    "}\n",
    "\n",
    "testParams = saltelli.sample(inputs, 100)\n",
    "\n",
    "Y = np.zeros([testParams.shape[0]])\n",
    "\n",
    "for i, X in enumerate(testParams):\n",
    "    varParams = dict(zip(variableParams,X)) #zip the variable params to their names\n",
    "    params = {**varParams, **fixedParams} #combine fixed and variable parameters\n",
    "    simulation = simulate(runs=5,periods=1000,parameters=params)\n",
    "    aggData = aggregateData(simulation)\n",
    "    aggData['pindex'] = i #add an index for the set of parameters tested to the results\n",
    "    #combine parameter data and simulation data into one frame\n",
    "    aggData = aggData.merge(pd.DataFrame(params,index=[i]),left_on=['pindex'],right_index=True)\n",
    "    #add the current simulation data to the collection of all simulation data\n",
    "    if i == 0:\n",
    "        fullData = aggData\n",
    "    else:\n",
    "        fullData = pd.concat([fullData,aggData],axis=0)\n",
    "\n",
    "\n",
    "        \n",
    "# y is every observation of a column where the name is a certain thing\n",
    "\n",
    "numAstdvec = np.array(fullData.where(fullData['Metric'] == 'Number of Agents adopting Fasion')['std'].dropna())\n",
    "numAavgvec = np.array(fullData.where(fullData['Metric'] == 'Number of Agents adopting Fasion')['avg'].dropna())\n",
    "numAstbvec = np.array(fullData.where(fullData['Metric'] == 'Number of Agents adopting Fasion')['stabilize'].dropna())\n",
    "numArngvec = np.array(fullData.where(fullData['Metric'] == 'Number of Agents adopting Fasion')['rng'].dropna())\n",
    "\n",
    "statistics = ['std','avg','stablility','range']\n",
    "Yvectors = [numAstdvec,numAavgvec,numAstbvec,numArngvec]\n",
    "results = []\n",
    "\n",
    "for i, vec in enumerate(Yvectors):\n",
    "    result = sobol.analyze(inputs, vec)\n",
    "    results.append(result)\n",
    "\n",
    "for i, res in enumerate(results):\n",
    "    frame = pd.DataFrame(pd.Series(results[i]['S1']).to_dict(),index=[0])\n",
    "    frame['stat'] = statistics[i]\n",
    "    if i == 0:\n",
    "        sensitivityData = frame\n",
    "    else:\n",
    "        sensitivityData = pd.concat([sensitivityData,frame],axis=0)\n",
    "\n",
    "variables = list(varParams.keys()) + ['stat']\n",
    "sensitivityData.columns = variables\n",
    "sensitivityData.to_latex()"
   ]
  },
  {
   "cell_type": "code",
   "execution_count": 132,
   "metadata": {
    "scrolled": true
   },
   "outputs": [
    {
     "ename": "AttributeError",
     "evalue": "'list' object has no attribute 'sigCounts'",
     "output_type": "error",
     "traceback": [
      "\u001b[0;31m---------------------------------------------------------------------------\u001b[0m",
      "\u001b[0;31mAttributeError\u001b[0m                            Traceback (most recent call last)",
      "\u001b[0;32m<ipython-input-132-63dd6fffa0f5>\u001b[0m in \u001b[0;36m<module>\u001b[0;34m()\u001b[0m\n\u001b[1;32m      2\u001b[0m \u001b[0;31m#test.step(300)\u001b[0m\u001b[0;34m\u001b[0m\u001b[0;34m\u001b[0m\u001b[0m\n\u001b[1;32m      3\u001b[0m \u001b[0;31m#aLine, = plt.plot(test.averageAval, label='Value of Signal')\u001b[0m\u001b[0;34m\u001b[0m\u001b[0;34m\u001b[0m\u001b[0m\n\u001b[0;32m----> 4\u001b[0;31m \u001b[0mXLine\u001b[0m\u001b[0;34m,\u001b[0m  \u001b[0;34m=\u001b[0m \u001b[0mplt\u001b[0m\u001b[0;34m.\u001b[0m\u001b[0mplot\u001b[0m\u001b[0;34m(\u001b[0m\u001b[0mpd\u001b[0m\u001b[0;34m.\u001b[0m\u001b[0mrolling_mean\u001b[0m\u001b[0;34m(\u001b[0m\u001b[0;34m[\u001b[0m\u001b[0ma\u001b[0m\u001b[0;34m[\u001b[0m\u001b[0;36m0\u001b[0m\u001b[0;34m]\u001b[0m \u001b[0;32mfor\u001b[0m \u001b[0ma\u001b[0m \u001b[0;32min\u001b[0m \u001b[0mtest\u001b[0m\u001b[0;34m.\u001b[0m\u001b[0msigCounts\u001b[0m\u001b[0;34m]\u001b[0m\u001b[0;34m,\u001b[0m\u001b[0;36m5\u001b[0m\u001b[0;34m)\u001b[0m\u001b[0;34m,\u001b[0m \u001b[0mlabel\u001b[0m\u001b[0;34m=\u001b[0m\u001b[0;34m'People Signaling A'\u001b[0m\u001b[0;34m)\u001b[0m\u001b[0;34m\u001b[0m\u001b[0m\n\u001b[0m\u001b[1;32m      5\u001b[0m \u001b[0;31m#bLine, = plt.plot(test.agents[1].sigAvalues, label='Value of Signal for Agent')\u001b[0m\u001b[0;34m\u001b[0m\u001b[0;34m\u001b[0m\u001b[0m\n\u001b[1;32m      6\u001b[0m \u001b[0mplt\u001b[0m\u001b[0;34m.\u001b[0m\u001b[0mlegend\u001b[0m\u001b[0;34m(\u001b[0m\u001b[0mhandles\u001b[0m\u001b[0;34m=\u001b[0m\u001b[0;34m(\u001b[0m\u001b[0;34m[\u001b[0m\u001b[0mXLine\u001b[0m\u001b[0;34m]\u001b[0m\u001b[0;34m)\u001b[0m\u001b[0;34m)\u001b[0m\u001b[0;34m\u001b[0m\u001b[0m\n",
      "\u001b[0;31mAttributeError\u001b[0m: 'list' object has no attribute 'sigCounts'"
     ]
    }
   ],
   "source": [
    "import matplotlib\n",
    "#test.step(300)\n",
    "#aLine, = plt.plot(test.averageAval, label='Value of Signal')\n",
    "XLine,  = plt.plot(pd.rolling_mean([a[0] for a in test.sigCounts],5), label='People Signaling A')\n",
    "#bLine, = plt.plot(test.agents[1].sigAvalues, label='Value of Signal for Agent')\n",
    "plt.legend(handles=([XLine]))\n",
    "plt.show()\n"
   ]
  },
  {
   "cell_type": "code",
   "execution_count": 184,
   "metadata": {},
   "outputs": [
    {
     "data": {
      "text/plain": [
       "1.8487677232799438"
      ]
     },
     "execution_count": 184,
     "metadata": {},
     "output_type": "execute_result"
    }
   ],
   "source": [
    "#test.showTrends(autoCor=True)\n",
    "test.agents[2].sigAval"
   ]
  },
  {
   "cell_type": "code",
   "execution_count": 94,
   "metadata": {
    "collapsed": true
   },
   "outputs": [],
   "source": [
    "testdict = {'a':1,'b':2,'c':4}\n",
    "if 'z' in testdict:\n",
    "    print('yes')"
   ]
  },
  {
   "cell_type": "code",
   "execution_count": 164,
   "metadata": {
    "scrolled": true
   },
   "outputs": [
    {
     "data": {
      "image/png": "[encoded data removed]",
      "text/plain": [
       "<matplotlib.figure.Figure at 0x7ff9cb162a90>"
      ]
     },
     "metadata": {},
     "output_type": "display_data"
    }
   ],
   "source": [
    "t = [1,2,3,4,5,6,7,8,9,10,1,2,3,4,5,6,7,8,9,10,1,2,3,4,5,6,7,8,9,10]\n",
    "plot_acf(ta[2:],fft=False)\n",
    "plt.xlim([0, 30])\n",
    "plt.show()\n"
   ]
  },
  {
   "cell_type": "code",
   "execution_count": 11,
   "metadata": {
    "scrolled": true
   },
   "outputs": [
    {
     "data": {
      "text/plain": [
       "(array([ 1.   ,  0.025, -0.45 , -0.325,  0.5  ,  0.125, -0.15 , -0.225]),\n",
       " array([[ 1.        ,  1.        ],\n",
       "        [-0.66795191,  0.71795191],\n",
       "        [-1.14338487,  0.24338487],\n",
       "        [-1.14673988,  0.49673988],\n",
       "        [-0.38130299,  1.38130299],\n",
       "        [-0.88335814,  1.13335814],\n",
       "        [-1.16577154,  0.86577154],\n",
       "        [-1.25135278,  0.80135278]]))"
      ]
     },
     "execution_count": 11,
     "metadata": {},
     "output_type": "execute_result"
    }
   ],
   "source": [
    "vec = [1,2,3,4,1,2,3,4]\n",
    "acf(vec,alpha=.05,nlags=7)\n",
    "data"
   ]
  },
  {
   "cell_type": "code",
   "execution_count": 201,
   "metadata": {
    "scrolled": true
   },
   "outputs": [
    {
     "data": {
      "text/plain": [
       "'hi'"
      ]
     },
     "execution_count": 201,
     "metadata": {},
     "output_type": "execute_result"
    }
   ],
   "source": [
    "newframe = pd.DataFrame()\n",
    "newframe['runs'] = 3\n",
    "testdict = {'a':False,'b':4,'c':6,'d':'hi'}\n",
    "otherdict = {'a':True,'b':4,'c':6,'d':'hi'}\n",
    "dataframe = pd.DataFrame(testdict,index=[0])\n",
    "df2 = pd.DataFrame(otherdict, index=[0])\n",
    "for i in range(3):\n",
    "    dataframe = dataframe.append(df2)\n",
    "#pd.DataFrame(dataframe.mean().to_dict(),index=[0])\n",
    "exp = dataframe['d']\n",
    "exp.values[0]"
   ]
  },
  {
   "cell_type": "code",
   "execution_count": 138,
   "metadata": {},
   "outputs": [
    {
     "data": {
      "text/plain": [
       "array([ 0.25 ,  0.875,  1.5  ,  2.125,  2.75 ])"
      ]
     },
     "execution_count": 138,
     "metadata": {},
     "output_type": "execute_result"
    }
   ],
   "source": [
    "import numpy as np\n",
    "np.linspace(.25,2.75,5)"
   ]
  },
  {
   "cell_type": "code",
   "execution_count": 180,
   "metadata": {},
   "outputs": [
    {
     "data": {
      "text/plain": [
       "0    0.093726\n",
       "0    0.093726\n",
       "Name: std, dtype: float64"
      ]
     },
     "execution_count": 180,
     "metadata": {},
     "output_type": "execute_result"
    }
   ],
   "source": [
    "t1 = pd.DataFrame(params,index=[7])\n",
    "t2 = aggregateData(test)\n",
    "t2['pindex'] = 7\n",
    "t3 = t1.merge(t2,left_index=True,right_on='pindex')\n",
    "t3 = pd.concat([t3,t3],axis=0)\n"
   ]
  },
  {
   "cell_type": "code",
   "execution_count": 72,
   "metadata": {
    "collapsed": true
   },
   "outputs": [],
   "source": [
    "test = pd.DataFrame()"
   ]
  },
  {
   "cell_type": "code",
   "execution_count": 74,
   "metadata": {},
   "outputs": [
    {
     "data": {
      "text/plain": [
       "124"
      ]
     },
     "execution_count": 74,
     "metadata": {},
     "output_type": "execute_result"
    }
   ],
   "source": [
    "int(round(t))"
   ]
  },
  {
   "cell_type": "code",
   "execution_count": null,
   "metadata": {
    "collapsed": true
   },
   "outputs": [],
   "source": []
  }
 ],
 "metadata": {
  "anaconda-cloud": {},
  "hide_input": false,
  "kernelspec": {
   "display_name": "Python 3",
   "language": "python",
   "name": "python3"
  },
  "language_info": {
   "codemirror_mode": {
    "name": "ipython",
    "version": 3
   },
   "file_extension": ".py",
   "mimetype": "text/x-python",
   "name": "python",
   "nbconvert_exporter": "python",
   "pygments_lexer": "ipython3",
   "version": "3.6.3"
  },
  "toc": {
   "colors": {
    "hover_highlight": "#DAA520",
    "running_highlight": "#FF0000",
    "selected_highlight": "#FFD700"
   },
   "moveMenuLeft": true,
   "nav_menu": {
    "height": "12px",
    "width": "252px"
   },
   "navigate_menu": true,
   "number_sections": true,
   "sideBar": true,
   "threshold": 4,
   "toc_cell": false,
   "toc_section_display": "block",
   "toc_window_display": false
  }
 },
 "nbformat": 4,
 "nbformat_minor": 2
}
