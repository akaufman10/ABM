{
 "cells": [
  {
   "cell_type": "markdown",
   "metadata": {},
   "source": [
    "Agent's are initialized with the following variable parameters:\n",
    "\n",
    "$P_u\\ =\\ \\text{payoff for unlocking door}$\n",
    "\n",
    "$\\gamma_u\\ =\\ \\text{expected risk of being robbed}$\n",
    "\n",
    "$L_u\\ =\\ \\text{loss from being robbed}$\n",
    "\n",
    "$P_t\\ =\\ \\text{payoff to successfull theft}$\n",
    "\n",
    "$\\gamma_t\\ =\\ \\text{expected probabilty of successfull theft}$\n",
    "\n",
    "$L_t\\ =\\ \\text{loss from any attempted theft}$\n",
    "\n",
    "\n",
    "Agent's utility functions for locking the door and attmepting theft are defined as:\n",
    "\n",
    "$$\n",
    "U_{door} = P_u - \\gamma_uL_u\n",
    "$$\n",
    "$$\n",
    "U_{theft} = \\gamma_tP_t - L_t\n",
    "$$\n",
    "\n",
    "where all paramaters are > 0. \n",
    "\n",
    "Agent's only take an action if the actions has a positive expected utility, so the agent will lock her door when payoff to unlocking the door outweights the expected loss\n",
    "$$\n",
    "P_u > \\gamma_uL_u \n",
    "$$\n",
    "and the agent will attempt a theft when the expected payoff is greater than the consequences\n",
    "$$\n",
    "\\gamma_tP_t > - L_t\n",
    "$$\n",
    "\n",
    "Crucially, both equations depend on the agent's beliefs about risk, captured in $\\gamma_u, \\ \\gamma_t$, which will be the only parameters that change in the sumulation.\n",
    "\n"
   ]
  },
  {
   "cell_type": "code",
   "execution_count": 81,
   "metadata": {},
   "outputs": [],
   "source": [
    "class Agent(object):\n",
    "    \n",
    "    def __init__(self, parameters):\n",
    "        for k,v in parameters.items(): #loop through all keyword arguments\n",
    "            # assert(k in self.__class__.__allowed) #make sure all the obejcts passed are compatible with base class, if applicable\n",
    "            setattr(self,k,v) #assign the kwargs as object attributes\n",
    "        self.lock = not bool(self.unlockPayoff > self.unlockRisk * self.unlockPenalty) #decicde whether to lock door(lock unless the payoff to unlock is higher than the square of the risk of theft)\n",
    "        self.theft = bool(self.theftPenalty < (1-self.theftRisk) * self.theftPayoff) #decide whether to attempt a robbery (attempt if the payoff to robbing is higher than the probability of failure)\n",
    "    \n",
    "    \n",
    "    \n",
    "    "
   ]
  },
  {
   "cell_type": "code",
   "execution_count": 115,
   "metadata": {},
   "outputs": [],
   "source": [
    "testparams = {'unlockPayoff':.5, 'unlockRisk':.2, 'unlockPenalty':.1, 'theftPayoff':1.01, 'theftRisk':.001,'theftPenalty':1,}\n",
    "test = Agent(testparams)"
   ]
  },
  {
   "cell_type": "markdown",
   "metadata": {},
   "source": [
    "Agents slowly learn about the current rate (lagged true values)  \n"
   ]
  },
  {
   "cell_type": "code",
   "execution_count": null,
   "metadata": {
    "collapsed": true
   },
   "outputs": [],
   "source": []
  },
  {
   "cell_type": "code",
   "execution_count": null,
   "metadata": {
    "collapsed": true
   },
   "outputs": [],
   "source": []
  }
 ],
 "metadata": {
  "hide_input": false,
  "kernelspec": {
   "display_name": "Python 3",
   "language": "python",
   "name": "python3"
  },
  "language_info": {
   "codemirror_mode": {
    "name": "ipython",
    "version": 3
   },
   "file_extension": ".py",
   "mimetype": "text/x-python",
   "name": "python",
   "nbconvert_exporter": "python",
   "pygments_lexer": "ipython3",
   "version": "3.6.1"
  },
  "toc": {
   "colors": {
    "hover_highlight": "#DAA520",
    "running_highlight": "#FF0000",
    "selected_highlight": "#FFD700"
   },
   "moveMenuLeft": true,
   "nav_menu": {
    "height": "12px",
    "width": "252px"
   },
   "navigate_menu": true,
   "number_sections": true,
   "sideBar": true,
   "threshold": 4,
   "toc_cell": false,
   "toc_section_display": "block",
   "toc_window_display": false
  }
 },
 "nbformat": 4,
 "nbformat_minor": 2
}
