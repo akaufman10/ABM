{
 "cells": [
  {
   "cell_type": "markdown",
   "metadata": {},
   "source": [
    "Agent's are initialized with the following variable parameters:\n",
    "\n",
    "$P_u\\ =\\ \\text{payoff for unlocking door}$\n",
    "\n",
    "$\\gamma_u\\ =\\ \\text{expected risk of being robbed}$\n",
    "\n",
    "$L_u\\ =\\ \\text{loss from being robbed}$\n",
    "\n",
    "$P_t\\ =\\ \\text{payoff to successfull theft}$\n",
    "\n",
    "$\\gamma_t\\ =\\ \\text{expected probabilty of successfull theft}$\n",
    "\n",
    "$L_t\\ =\\ \\text{loss from any attempted theft}$\n",
    "\n",
    "\n",
    "Agent's utility functions for locking the door and attmepting theft are defined as:\n",
    "\n",
    "$$\n",
    "U_{door} = P_u - \\gamma_uL_u\n",
    "$$\n",
    "$$\n",
    "U_{theft} = \\gamma_tP_t - L_t\n",
    "$$\n",
    "\n",
    "where all paramaters are > 0. \n",
    "\n",
    "Agent's only take an action if the actions has a positive expected utility, so the agent will lock her door when payoff to unlocking the door outweights the expected loss\n",
    "$$\n",
    "P_u > \\gamma_uL_u \n",
    "$$\n",
    "and the agent will attempt a theft when the expected payoff is greater than the consequences\n",
    "$$\n",
    "\\gamma_tP_t > - L_t\n",
    "$$\n",
    "\n",
    "Crucially, both equations depend on the agent's beliefs about risk, captured in $\\gamma_u, \\ \\gamma_t$, which will be the only parameters that change in the sumulation.\n",
    "\n"
   ]
  },
  {
   "cell_type": "code",
   "execution_count": 85,
   "metadata": {
    "collapsed": false
   },
   "outputs": [],
   "source": [
    "import networkx as nx\n",
    "\n",
    "class Agent(object):\n",
    "    \n",
    "    def __init__(self, idNum, parameters,model):\n",
    "        self.idNum = idNum\n",
    "        self.model = model\n",
    "        self.connections = model.environment.neighbors(idNum)\n",
    "        for k,v in parameters.items(): #loop through all keyword arguments\n",
    "            # assert(k in self.__class__.__allowed) #make sure all the obejcts passed are compatible with base class, if applicable\n",
    "            setattr(self,k,v) #assign the kwargs as object attributes\n",
    "        self.theftRiskVec = 5*[self.theftRisk]\n",
    "        self.unlockRiskVec = 5*[self.unlockRisk]\n",
    "        self.step()\n",
    "        \n",
    "        \n",
    "    def step(self):\n",
    "        self.update()\n",
    "        self.choseActions():\n",
    "        self.takeAction():\n",
    "        \n",
    "    def calcRisk(self,vector):\n",
    "        return sum(vector)/len(vector)  \n",
    "    \n",
    "    def choseActions(self):\n",
    "        self.lock = not bool(self.unlockPayoff > self.calcRisk(self.unlockRiskVec) * self.unlockPenalty) #decicde whether to lock door(lock unless the payoff to unlock is higher than the square of the risk of theft)\n",
    "        self.theft = bool(self.theftPenalty < (1-self.calcRisk(self.theftRiskVec)) * self.theftPayoff) #decide whether to attempt a robbery (attempt if the payoff to robbing is higher than the probability of failure)\n",
    "        \n",
    "    \n",
    "    def update(self):\n",
    "        #collect info from neighbors\n",
    "        \n",
    "class model(object):\n",
    "    def __init__(self,N,parameters):\n",
    "        self.environment = nx.watts_strogatz_graph(N,parameters['k'],parameters['p']) #N nodes, K neighbors connected, .25 probability of rewireing\n",
    "        self.agents = []\n",
    "        for i in range(N):\n",
    "            a = Agent(i,parameters,self)\n",
    "            self.agents.append(a)"
   ]
  },
  {
   "cell_type": "code",
   "execution_count": 86,
   "metadata": {
    "collapsed": false
   },
   "outputs": [
    {
     "data": {
      "text/plain": [
       "[0, 2]"
      ]
     },
     "execution_count": 86,
     "metadata": {},
     "output_type": "execute_result"
    }
   ],
   "source": [
    "testparams = {'unlockPayoff':.5, 'unlockRisk':.2, 'unlockPenalty':.1, 'theftPayoff':1.01, 'theftRisk':.001,'theftPenalty':1,'k':2,'p':.25}\n",
    "test = model(10,testparams)\n",
    "test.agents[1].connections"
   ]
  },
  {
   "cell_type": "markdown",
   "metadata": {},
   "source": [
    "Agents slowly learn about the current rate (lagged true values) using a simple updating process.\n",
    "\n",
    "$$\n",
    "\\gamma_{un} = \\sum_{i=n-5}^n \\gamma_{ui}\n",
    "$$\n",
    "$$\n",
    "\\gamma_{tn} = \\sum_{i=n-5}^n \\gamma_{ti}\n",
    "$$\n",
    "\n",
    "where i represent period and n represents the current period."
   ]
  },
  {
   "cell_type": "code",
   "execution_count": null,
   "metadata": {
    "collapsed": true
   },
   "outputs": [],
   "source": []
  },
  {
   "cell_type": "code",
   "execution_count": null,
   "metadata": {
    "collapsed": true
   },
   "outputs": [],
   "source": []
  }
 ],
 "metadata": {
  "anaconda-cloud": {},
  "hide_input": false,
  "kernelspec": {
   "display_name": "Python [conda env:py3]",
   "language": "python",
   "name": "conda-env-py3-py"
  },
  "language_info": {
   "codemirror_mode": {
    "name": "ipython",
    "version": 3
   },
   "file_extension": ".py",
   "mimetype": "text/x-python",
   "name": "python",
   "nbconvert_exporter": "python",
   "pygments_lexer": "ipython3",
   "version": "3.6.1"
  },
  "toc": {
   "colors": {
    "hover_highlight": "#DAA520",
    "running_highlight": "#FF0000",
    "selected_highlight": "#FFD700"
   },
   "moveMenuLeft": true,
   "nav_menu": {
    "height": "12px",
    "width": "252px"
   },
   "navigate_menu": true,
   "number_sections": true,
   "sideBar": true,
   "threshold": 4,
   "toc_cell": false,
   "toc_section_display": "block",
   "toc_window_display": false
  }
 },
 "nbformat": 4,
 "nbformat_minor": 2
}
