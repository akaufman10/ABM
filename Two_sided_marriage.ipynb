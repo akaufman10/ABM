{
 "cells": [
  {
   "cell_type": "code",
   "execution_count": 250,
   "metadata": {},
   "outputs": [],
   "source": [
    "from mesa import Agent, Model\n",
    "from mesa.time import RandomActivation\n",
    "import random\n",
    "from copy import copy\n",
    "import matplotlib.pyplot as plt\n",
    "import pandas as pd\n",
    "\n"
   ]
  },
  {
   "cell_type": "code",
   "execution_count": 196,
   "metadata": {
    "collapsed": true
   },
   "outputs": [],
   "source": [
    "class Man(Agent):\n",
    "        def __init__(self, unique_id, adol, model):\n",
    "            super().__init__(unique_id,model)\n",
    "            self.id = unique_id\n",
    "            self.adol = adol\n",
    "            self.age = 0\n",
    "            self.gender = \"M\"\n",
    "            self.married = False\n",
    "            self.asp = 50\n",
    "            self.value = random.choice(range(100))\n",
    "\n",
    "        def step(self):\n",
    "            self.age += 1\n",
    "            if self.married:\n",
    "                return\n",
    "            partner = self.getMatch()\n",
    "            if self.age <= self.adol:\n",
    "                self.updateAsp(partner)\n",
    "                return\n",
    "            self.married = self.match\n",
    "            partner.married = self.match\n",
    "            self.aom = (self.match and self.age or None)\n",
    "            partner.aom = (self.match and partner.age or None)\n",
    "            \n",
    "        def getMatch(self):\n",
    "            valid_match = False\n",
    "            while valid_match == False:\n",
    "                partner = random.choice(self.model.women)\n",
    "                if partner.married != True:\n",
    "                    valid_match = True\n",
    "                    \n",
    "            self.makeoffer = bool(self.asp <= partner.value)\n",
    "            partner.makeoffer = bool(partner.asp <= self.value)\n",
    "            \n",
    "            self.getoffer = copy(partner.makeoffer)\n",
    "            partner.getoffer = copy(self.makeoffer)\n",
    "            \n",
    "            self.match = bool(self.makeoffer == True and self.getoffer == True)\n",
    "            partner.match = self.match\n",
    "            \n",
    "            return partner\n",
    "            \n",
    "        def updateAsp(self,partner):\n",
    "            \n",
    "            if self.match: #if there is a match\n",
    "                if partner.value >= self.asp: #and if the woman's value > mans aspiration\n",
    "                    self.asp = copy(partner.value) #replace the mans's aspiration with the man's value\n",
    "                if self.value >= partner.asp: #and if the mans value > womans aspiration\n",
    "                    partner.asp = copy(self.value) #replace the woman's aspiration with the woman's value\n",
    "            \n",
    "            if not self.getoffer: #if the man didnt get an offer\n",
    "                if partner.value < self.asp: #and the woman's value is below his aspiration\n",
    "                    self.asp = copy(partner.value) #change his aspiration to her value\n",
    "                    \n",
    "            if not self.makeoffer: #if the man didnt make an offer\n",
    "                if self.value < partner.asp: #and the woman's aspiration is above his value\n",
    "                    partner.asp = copy(self.value) #change her aspiration to his value\n",
    "    \n",
    "class Woman(Man):\n",
    "        def __init__(self,unique_id,adol,model):\n",
    "            super().__init__(unique_id,adol,model)\n",
    "            self.gender = \"F\"\n",
    "        "
   ]
  },
  {
   "cell_type": "code",
   "execution_count": 345,
   "metadata": {
    "collapsed": true
   },
   "outputs": [],
   "source": [
    "class MarriageModel(Model):\n",
    "    \n",
    "    def __init__(self,N,adol):\n",
    "        self.num_agents = N\n",
    "        self.schedule = RandomActivation(self)\n",
    "        self.adol = adol\n",
    "        self.women = []\n",
    "        self.men = []\n",
    "        #Create agents\n",
    "        for i in range(self.num_agents):\n",
    "            self.women.append(Woman(i,adol,self))\n",
    "            self.schedule.add(Man(i,adol,self))\n",
    "            \n",
    "            \n",
    "    def step(self):\n",
    "        self.schedule.step()\n",
    "            \n",
    "            "
   ]
  },
  {
   "cell_type": "code",
   "execution_count": 346,
   "metadata": {},
   "outputs": [],
   "source": [
    "\n",
    "fixedModel = MarriageModel(100, 12)\n",
    "for i in range(90):\n",
    "    fixedModel.step()"
   ]
  },
  {
   "cell_type": "code",
   "execution_count": 347,
   "metadata": {},
   "outputs": [],
   "source": [
    "m_ages_at_marriage = pd.Series([a.aom for a in fixedModel.schedule.agents if a.aom is not None])\n",
    "frequency = (m_ages_at_marriage.value_counts())/100\n",
    "#frequency = pd.Series(frequency.index.values, index=frequency)\n",
    "frequency.sort_index(inplace=True)"
   ]
  },
  {
   "cell_type": "code",
   "execution_count": 348,
   "metadata": {},
   "outputs": [
    {
     "name": "stdout",
     "output_type": "stream",
     "text": [
      "13    0.07\n",
      "14    0.08\n",
      "15    0.07\n",
      "16    0.04\n",
      "17    0.04\n",
      "18    0.01\n",
      "19    0.02\n",
      "20    0.01\n",
      "21    0.01\n",
      "22    0.01\n",
      "23    0.01\n",
      "24    0.05\n",
      "26    0.01\n",
      "28    0.01\n",
      "29    0.02\n",
      "35    0.02\n",
      "39    0.01\n",
      "44    0.02\n",
      "47    0.01\n",
      "49    0.01\n",
      "50    0.01\n",
      "51    0.01\n",
      "58    0.01\n",
      "74    0.01\n",
      "77    0.01\n",
      "83    0.01\n",
      "dtype: float64\n"
     ]
    },
    {
     "data": {
      "image/png": "[encoded data removed]",
      "text/plain": [
       "<matplotlib.figure.Figure at 0x7f288c5efa58>"
      ]
     },
     "metadata": {},
     "output_type": "display_data"
    }
   ],
   "source": [
    "print(frequency)\n",
    "frequency.plot()\n",
    "plt.show()\n"
   ]
  },
  {
   "cell_type": "code",
   "execution_count": 136,
   "metadata": {},
   "outputs": [
    {
     "data": {
      "text/plain": [
       "90"
      ]
     },
     "execution_count": 136,
     "metadata": {},
     "output_type": "execute_result"
    }
   ],
   "source": [
    "fixedModel.schedule.agents[3].age"
   ]
  },
  {
   "cell_type": "code",
   "execution_count": 137,
   "metadata": {},
   "outputs": [
    {
     "data": {
      "text/plain": [
       "13"
      ]
     },
     "execution_count": 137,
     "metadata": {},
     "output_type": "execute_result"
    }
   ],
   "source": [
    "fixedModel.schedule.agents[3].aom"
   ]
  },
  {
   "cell_type": "code",
   "execution_count": 146,
   "metadata": {},
   "outputs": [
    {
     "data": {
      "text/plain": [
       "71"
      ]
     },
     "execution_count": 146,
     "metadata": {},
     "output_type": "execute_result"
    }
   ],
   "source": [
    "fixedModel.schedule.agents[5].value"
   ]
  },
  {
   "cell_type": "code",
   "execution_count": null,
   "metadata": {
    "collapsed": true
   },
   "outputs": [],
   "source": []
  }
 ],
 "metadata": {
  "anaconda-cloud": {},
  "hide_input": false,
  "kernelspec": {
   "display_name": "Python 3",
   "language": "python",
   "name": "python3"
  },
  "language_info": {
   "codemirror_mode": {
    "name": "ipython",
    "version": 3
   },
   "file_extension": ".py",
   "mimetype": "text/x-python",
   "name": "python",
   "nbconvert_exporter": "python",
   "pygments_lexer": "ipython3",
   "version": "3.6.1"
  },
  "toc": {
   "colors": {
    "hover_highlight": "#DAA520",
    "running_highlight": "#FF0000",
    "selected_highlight": "#FFD700"
   },
   "moveMenuLeft": true,
   "nav_menu": {
    "height": "12px",
    "width": "252px"
   },
   "navigate_menu": true,
   "number_sections": true,
   "sideBar": true,
   "threshold": 4,
   "toc_cell": false,
   "toc_section_display": "block",
   "toc_window_display": false
  }
 },
 "nbformat": 4,
 "nbformat_minor": 2
}
