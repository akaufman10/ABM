{
 "cells": [
  {
   "cell_type": "code",
   "execution_count": 140,
   "metadata": {},
   "outputs": [],
   "source": [
    "from mesa import Agent, Model\n",
    "import random\n",
    "import copy"
   ]
  },
  {
   "cell_type": "code",
   "execution_count": 323,
   "metadata": {},
   "outputs": [],
   "source": [
    "class Man(Agent):\n",
    "        def __init__(self, unique_id, adol, model):\n",
    "            super().__init__(unique_id,model)\n",
    "            self.id = unique_id\n",
    "            self.adol = adol\n",
    "            self.age = 0\n",
    "            self.gender = \"M\"\n",
    "            self.married = False\n",
    "            self.asp = 50\n",
    "            self.value = random.choice(range(100))\n",
    "\n",
    "        def step(self):\n",
    "            self.age += 1\n",
    "            if self.married:\n",
    "                return\n",
    "            partner = self.getMatch()\n",
    "            if self.age <= self.adol:\n",
    "                self.updateAsp(partner)\n",
    "                return\n",
    "            self.married = self.match\n",
    "            partner.married = self.match\n",
    "            self.aom = (self.match and self.age or None)\n",
    "            partner.aom = (self.match and partner.age or None)\n",
    "            \n",
    "        def getMatch(self):\n",
    "            valid_match = False\n",
    "            while valid_match == False:\n",
    "                partner = random.choice(self.model.women)\n",
    "                if partner.married != True:\n",
    "                    valid_match = True\n",
    "                    \n",
    "            self.makeoffer = bool(self.asp <= partner.value)\n",
    "            partner.makeoffer = bool(partner.asp <= self.value)\n",
    "            \n",
    "            self.getoffer = partner.makeoffer\n",
    "            partner.getoffer = self.makeoffer\n",
    "            \n",
    "            self.match = bool(self.makeoffer == True and self.getoffer == True)\n",
    "            partner.match = self.match\n",
    "            \n",
    "            return partner\n",
    "            \n",
    "        def updateAsp(self,partner):\n",
    "            \n",
    "            if self.match: #if there is a match\n",
    "                if partner.value >= self.asp: #and if the woman's value > mans aspiration\n",
    "                    self.asp = partner.value #replace the mans's aspiration with the man's value\n",
    "                if self.value >= partner.asp: #and if the mans value > womans aspiration\n",
    "                    partner.asp = self.value #replace the woman's aspiration with the woman's value\n",
    "            \n",
    "            if not self.getoffer: #if the man didnt get an offer\n",
    "                if self.asp > partner.value: #and his aspiration is higher than the woman's value\n",
    "                    self.asp = partner.value #change his aspiration to her value\n",
    "                    \n",
    "            if not self.makeoffer: #if the man didnt make an offer\n",
    "                if partner.asp > self.value: #and the woman's aspiration is higher than the mans value\n",
    "                    partner.asp = self.value #change her aspiration to his value\n",
    "    \n",
    "class Woman(Man):\n",
    "        def __init__(self,unique_id,adol,model):\n",
    "            super().__init__(unique_id,adol,model)\n",
    "            self.gender = \"F\"\n",
    "        "
   ]
  },
  {
   "cell_type": "code",
   "execution_count": 324,
   "metadata": {},
   "outputs": [],
   "source": [
    "class MarriageModel(Model):\n",
    "    \n",
    "    def __init__(self,N,adol):\n",
    "        self.num_agents = N\n",
    "        self.adol = adol\n",
    "        self.women = []\n",
    "        self.men = []\n",
    "        #Create agents\n",
    "        for i in range(self.num_agents):\n",
    "            self.women.append(Woman(i,adol,self))\n",
    "            self.men.append(Man(i,adol,self))\n",
    "            \n",
    "            "
   ]
  },
  {
   "cell_type": "code",
   "execution_count": 325,
   "metadata": {},
   "outputs": [
    {
     "data": {
      "text/plain": [
       "<__main__.MarriageModel at 0x7f4303e41780>"
      ]
     },
     "execution_count": 325,
     "metadata": {},
     "output_type": "execute_result"
    }
   ],
   "source": [
    "\n",
    "test = MarriageModel(100, 12)\n",
    "test"
   ]
  },
  {
   "cell_type": "code",
   "execution_count": 326,
   "metadata": {},
   "outputs": [],
   "source": [
    "testing = test.women[1]\n",
    "\n"
   ]
  },
  {
   "cell_type": "code",
   "execution_count": null,
   "metadata": {
    "collapsed": true
   },
   "outputs": [],
   "source": []
  }
 ],
 "metadata": {
  "anaconda-cloud": {},
  "hide_input": false,
  "kernelspec": {
   "display_name": "Python 3",
   "language": "python",
   "name": "python3"
  },
  "language_info": {
   "codemirror_mode": {
    "name": "ipython",
    "version": 3
   },
   "file_extension": ".py",
   "mimetype": "text/x-python",
   "name": "python",
   "nbconvert_exporter": "python",
   "pygments_lexer": "ipython3",
   "version": "3.6.1"
  },
  "toc": {
   "colors": {
    "hover_highlight": "#DAA520",
    "running_highlight": "#FF0000",
    "selected_highlight": "#FFD700"
   },
   "moveMenuLeft": true,
   "nav_menu": {
    "height": "12px",
    "width": "252px"
   },
   "navigate_menu": true,
   "number_sections": true,
   "sideBar": true,
   "threshold": 4,
   "toc_cell": false,
   "toc_section_display": "block",
   "toc_window_display": false
  }
 },
 "nbformat": 4,
 "nbformat_minor": 2
}
